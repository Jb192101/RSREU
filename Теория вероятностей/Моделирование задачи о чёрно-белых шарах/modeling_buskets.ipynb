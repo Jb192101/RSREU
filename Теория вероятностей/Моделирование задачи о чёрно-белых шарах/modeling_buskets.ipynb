{
  "metadata": {
    "kernelspec": {
      "name": "xpython",
      "display_name": "Python 3.13 (XPython)",
      "language": "python"
    },
    "language_info": {
      "file_extension": ".py",
      "mimetype": "text/x-python",
      "name": "python",
      "version": "3.13.1"
    }
  },
  "nbformat_minor": 5,
  "nbformat": 4,
  "cells": [
    {
      "id": "9b027269-4367-476f-80b9-b8edfd4bcdda",
      "cell_type": "code",
      "source": "import random\nimport copy\n\ndef take_random_three_balls(busket1, busket2):\n    l = len(busket1)\n    for i in range(3):\n        index = random.randint(0, l-1)\n        ball = busket1[index]\n\n        busket2.append(ball)\n        busket1.remove(ball)\n        l -= 1\n    \n    new_index = random.randint(0, len(busket2)-1)\n    return busket2[new_index]\n\nbusket1 = ['white', 'white', 'white', 'white', 'white', 'white', 'white', 'white', 'white', 'white', 'white', 'white', 'white', 'white', 'white', 'black', 'black', 'black', 'black', 'black', 'black']\nbusket2 = ['white', 'white', 'white', 'white', 'white', 'white', 'black']\n\nn = 500_000\nm = 0\nfor i in range(n):\n    b1 = copy.deepcopy(busket1)\n    b2 = copy.deepcopy(busket2)\n    \n    result_ball = take_random_three_balls(b1, b2)\n\n    if result_ball == 'white':\n        m += 1\n\nprint(\"Итоговый результат: \" + str(m/n))",
      "metadata": {
        "trusted": true
      },
      "outputs": [
        {
          "name": "stdout",
          "output_type": "stream",
          "text": "Итоговый результат: 0.814486\n"
        }
      ],
      "execution_count": 10
    },
    {
      "id": "6e19113c-3405-430d-a430-18f2d2d53a10",
      "cell_type": "code",
      "source": "",
      "metadata": {
        "trusted": true
      },
      "outputs": [],
      "execution_count": null
    }
  ]
}