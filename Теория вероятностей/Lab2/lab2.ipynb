{
  "metadata": {
    "kernelspec": {
      "name": "xpython",
      "display_name": "Python 3.13 (XPython)",
      "language": "python"
    },
    "language_info": {
      "file_extension": ".py",
      "mimetype": "text/x-python",
      "name": "python",
      "version": "3.13.1"
    }
  },
  "nbformat_minor": 5,
  "nbformat": 4,
  "cells": [
    {
      "id": "ffe30340-6e1d-4e3b-be1c-a82aaf4d1394",
      "cell_type": "code",
      "source": "import random\n\n# В коробке лежит N красных и M синих шариков. Какова вероятность того, что из коробки будут вытащены красный и синий шарики.\n\n# Частотная вероятность\ndef simulate_ball_probability(num_red, num_blue, num_experiments):\n    success_count = 0\n\n    for _ in range(num_experiments):\n        box = ['red'] * num_red + ['blue'] * num_blue\n\n        random.shuffle(box)\n\n        first_ball = box.pop()\n        second_ball = box.pop()\n\n        if first_ball == 'red' and second_ball == 'blue':\n            success_count += 1\n\n    frequency_probability = success_count / num_experiments\n    return frequency_probability\n\nred_balls = 10\nblue_balls = 5\ntotal_balls = red_balls + blue_balls\n\n# Теоретическая вероятность\ntheoretical_prob = (red_balls / total_balls) * (blue_balls / (total_balls - 1))\n\nnum_simulations = 20000000\nfreq_prob = simulate_ball_probability(red_balls, blue_balls, num_simulations)\n\nprint(f\"Классическая вероятность: {theoretical_prob:.6f} ({theoretical_prob:.2%})\")\nprint(f\"Частотная вероятность ({num_simulations} симуляций): {freq_prob:.6f} ({freq_prob:.2%})\")\nprint(f\"Разница между подходами: {abs(theoretical_prob - freq_prob):.6f}\")",
      "metadata": {
        "trusted": true
      },
      "outputs": [
        {
          "name": "stdout",
          "output_type": "stream",
          "text": "Классическая вероятность: 0.238095 (23.81%)\nЧастотная вероятность (20000000 симуляций): 0.238091 (23.81%)\nРазница между подходами: 0.000004\n"
        }
      ],
      "execution_count": 4
    },
    {
      "id": "ae2cc5bb-55a9-4754-b890-af8afdd67120",
      "cell_type": "code",
      "source": "",
      "metadata": {
        "trusted": true
      },
      "outputs": [],
      "execution_count": null
    }
  ]
}